{
 "metadata": {
  "name": "",
  "signature": "sha256:2fa8cbec186885fb9da3c06c775ebbd1a31d77ba7efdbc4c2c91c32d53745fa8"
 },
 "nbformat": 3,
 "nbformat_minor": 0,
 "worksheets": [
  {
   "cells": [
    {
     "cell_type": "heading",
     "level": 2,
     "metadata": {},
     "source": [
      "Try putting together your own notebook that queries the MPC to obtain the known main-belt comets."
     ]
    },
    {
     "cell_type": "markdown",
     "metadata": {},
     "source": [
      "The Jet Propulsion Laboratory defines a main-belt asteroid as an asteroid with a semi-major axis (average distance from the Sun) of more than 2 AU but less than 3.2 AU, and a perihelion (closest approach distance to the Sun) of no less than 1.6 AU. David Jewitt from UCLA points out that these objects are most likely not comets with sublimating ice, but asteroids that exhibit dust activity, and hence he and others started calling these class of objects active asteroids."
     ]
    },
    {
     "cell_type": "code",
     "collapsed": false,
     "input": [
      "import sys\n",
      "sys.path.append(\"/Users/admin/Desktop/Python/astroquery/astroquery\")\n",
      "\n",
      "import seaborn as sns\n",
      "import pandas as pd\n",
      "import numpy as np\n",
      "import bokeh.plotting as bp\n",
      "from bokeh.objects import Range1d\n",
      "from astroquery import mpc\n",
      "\n",
      "%matplotlib inline\n",
      "sns.set_context('poster') # I like big plots and I cannot lie"
     ],
     "language": "python",
     "metadata": {},
     "outputs": [],
     "prompt_number": 1
    },
    {
     "cell_type": "code",
     "collapsed": false,
     "input": [
      "# establish query from MPC\n",
      "mpccenter = mpc.Mpc()\n",
      "mpccenter._login('mpc_ws', 'mpc!!ws')\n",
      "# Webservice: http://mpcdb1.cfa.harvard.edu/ws/search   Username: mpc_ws  Password: mpc!!ws\n",
      "tnos = pd.DataFrame(mpccenter.query_parameters('semimajor_axis_min 2', 'semimajor_axis_max 3.2', \n",
      "                                  return_request='semimajor_axis, inclination, eccentricity, name, designation'))\n",
      "a_min = 2\n",
      "tnos[\"perihelion\"] = tnos['semimajor_axis']*(1. - tnos['eccentricity'])  # q = a(1-e)\n",
      "# test to see is q < 1.6\n",
      "\n",
      "print(len(tnos))"
     ],
     "language": "python",
     "metadata": {},
     "outputs": [
      {
       "ename": "NameError",
       "evalue": "name 'mpc' is not defined",
       "output_type": "pyerr",
       "traceback": [
        "\u001b[0;31m---------------------------------------------------------------------------\u001b[0m\n\u001b[0;31mNameError\u001b[0m                                 Traceback (most recent call last)",
        "\u001b[0;32m<ipython-input-3-9f0f0bcac01f>\u001b[0m in \u001b[0;36m<module>\u001b[0;34m()\u001b[0m\n\u001b[1;32m      1\u001b[0m \u001b[0;31m# establish query from MPC\u001b[0m\u001b[0;34m\u001b[0m\u001b[0;34m\u001b[0m\u001b[0m\n\u001b[0;32m----> 2\u001b[0;31m \u001b[0mmpccenter\u001b[0m \u001b[0;34m=\u001b[0m \u001b[0mmpc\u001b[0m\u001b[0;34m.\u001b[0m\u001b[0mMpc\u001b[0m\u001b[0;34m(\u001b[0m\u001b[0;34m)\u001b[0m\u001b[0;34m\u001b[0m\u001b[0m\n\u001b[0m\u001b[1;32m      3\u001b[0m \u001b[0mmpccenter\u001b[0m\u001b[0;34m.\u001b[0m\u001b[0m_login\u001b[0m\u001b[0;34m(\u001b[0m\u001b[0;34m'mpc_ws'\u001b[0m\u001b[0;34m,\u001b[0m \u001b[0;34m'mpc!!ws'\u001b[0m\u001b[0;34m)\u001b[0m\u001b[0;34m\u001b[0m\u001b[0m\n\u001b[1;32m      4\u001b[0m \u001b[0;31m# Webservice: http://mpcdb1.cfa.harvard.edu/ws/search   Username: mpc_ws  Password: mpc!!ws\u001b[0m\u001b[0;34m\u001b[0m\u001b[0;34m\u001b[0m\u001b[0m\n\u001b[1;32m      5\u001b[0m tnos = pd.DataFrame(mpccenter.query_parameters('semimajor_axis_min 2', 'semimajor_axis_max 3.2', \n",
        "\u001b[0;31mNameError\u001b[0m: name 'mpc' is not defined"
       ]
      }
     ],
     "prompt_number": 3
    },
    {
     "cell_type": "markdown",
     "metadata": {},
     "source": [
      "Tisserand parameter, T_J < 3 dynamical comets - Jewitt active asteroids\n",
      "\n",
      " T_J = a_J / a + 2 cos(i) sqrt( (1-e^2) a/a_J)\n",
      " \n",
      " Do something with this?"
     ]
    },
    {
     "cell_type": "code",
     "collapsed": false,
     "input": [
      "pg = sns.PairGrid(tnos, x_vars=[\"semimajor_axis\"], y_vars=[\"eccentricity\", \"inclination\"], \n",
      "                  aspect=4, hue=\"peribin\", palette=\"coolwarm\")\n",
      "plt.xlim(a_min, 100)\n",
      "pg.axes[0][0].set_ylim([0,1.])\n",
      "#gg.axes[0][1].set_ylim([0,90.])  # Calling this instead, which would be normal, gives an index out of range error\n",
      "plt.ylim(0,90)  # but this fixes it just fine on the second plot. Huh.\n",
      "pg.map(plt.scatter)       #, c=tnos[\"perihelion\"], cmap=\"coolwarm\")  # wish this worked, but get odd errors\n",
      "pg.add_legend(title='perihelion (AU)')  # has to be after the map, but breaks if the legend is passed continuous data rather than categorical.\n",
      "pg.savefig('/Users/admin/Desktop/tnos_coolwarm.pdf')"
     ],
     "language": "python",
     "metadata": {},
     "outputs": []
    },
    {
     "cell_type": "code",
     "collapsed": false,
     "input": [],
     "language": "python",
     "metadata": {},
     "outputs": []
    }
   ],
   "metadata": {}
  }
 ]
}