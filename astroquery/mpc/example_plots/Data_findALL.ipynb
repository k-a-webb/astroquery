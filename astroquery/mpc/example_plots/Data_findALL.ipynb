{
 "metadata": {
  "name": "",
  "signature": "sha256:7074d9a44a5e5454cf8178992a2499ee00ab0e205c716151927dce065d85ce0e"
 },
 "nbformat": 3,
 "nbformat_minor": 0,
 "worksheets": [
  {
   "cells": [
    {
     "cell_type": "code",
     "collapsed": false,
     "input": [
      "import numpy as np\n",
      "import matplotlib.pyplot as plt\n",
      "import pandas as pd\n",
      "import seaborn as sns\n",
      "%matplotlib inline\n",
      "from astropy.io import ascii\n",
      "from astropy.table import Table, Column"
     ],
     "language": "python",
     "metadata": {},
     "outputs": [],
     "prompt_number": 5
    },
    {
     "cell_type": "heading",
     "level": 3,
     "metadata": {},
     "source": [
      "Parse all objects, http://www.minorplanetcenter.net/iau/MPCORB.html\n",
      "Format: http://www.minorplanetcenter.net/iau/info/MPOrbitFormat.html"
     ]
    },
    {
     "cell_type": "code",
     "collapsed": false,
     "input": [
      "infile = open(\"NEAs.txt\", \"rw+\")\n",
      "\n",
      "numlist = []\n",
      "qlist = []\n",
      "ecclist = []\n",
      "inclist = []\n",
      "namelist = []\n",
      "\n",
      "\n",
      "for line in infile.readlines():\n",
      "    s = line #str(infile.readlines(line))\n",
      "    #print s\n",
      "\n",
      "    # number\n",
      "    number = s[0:8].strip()\n",
      "    # perihelion distance (AU)\n",
      "    q = float(s[37:47].strip())\n",
      "    # orbital eccentricity\n",
      "    ecc = float(s[70:80].strip())\n",
      "    # inclination, J@00.0 (degrees)\n",
      "    inc = float(s[59:69].strip())\n",
      "    # designation and name\n",
      "    name = s[107:117].strip()\n",
      "    numlist.append(number)\n",
      "    qlist.append(q)\n",
      "    ecclist.append(ecc)\n",
      "    inclist.append(inc)\n",
      "    namelist.append(name)\n",
      "    \n",
      "table = Table([numlist, qlist, ecclist, inclist, namelist], \n",
      "          names=('number', 'perihelion', 'eccentricity', 'inclination', 'name'))\n",
      "\n",
      "infile.close()\n",
      "\n",
      "table[\"semimajor_axis\"] = table['perihelion']/(1 - table['eccentricity'])  # a=q/(1-e)\n",
      "#table\n"
     ],
     "language": "python",
     "metadata": {},
     "outputs": [],
     "prompt_number": 6
    },
    {
     "cell_type": "heading",
     "level": 4,
     "metadata": {},
     "source": [
      "Identify known comets"
     ]
    },
    {
     "cell_type": "code",
     "collapsed": false,
     "input": [
      "mbcs = pd.read_excel(\"MBCs_woScheila.xlsx\")\n",
      "\n",
      "num_list = mbcs[\"number\"]\n",
      "\n",
      "mbc_qlist = []\n",
      "mbc_alist = []\n",
      "mbc_elist = []\n",
      "mbc_ilist = []\n",
      "\n",
      "for num in num_list:\n",
      "    # query = 'number == \"{}\"'.format(num)    \n",
      "    object = table.query('number == \"{}\"'.format(num))\n",
      "    q1 = float(object[\"perihelion\"])\n",
      "    a1 = float(object[\"semimajor_axis\"])\n",
      "    inc1 = float(object[\"inclination\"])\n",
      "    ecc1 = float(object[\"eccentricity\"])\n",
      "    mbc_qlist.append(q1)\n",
      "    mbc_alist.append(a1)\n",
      "    mbc_elist.append(ecc1)\n",
      "    mbc_ilist.append(inc1)\n",
      "\n",
      "mbctable = pd.DataFrame(mbcdata)"
     ],
     "language": "python",
     "metadata": {},
     "outputs": [
      {
       "ename": "AttributeError",
       "evalue": "'Table' object has no attribute 'query'",
       "output_type": "pyerr",
       "traceback": [
        "\u001b[0;31m---------------------------------------------------------------------------\u001b[0m\n\u001b[0;31mAttributeError\u001b[0m                            Traceback (most recent call last)",
        "\u001b[0;32m<ipython-input-7-48c107ae0118>\u001b[0m in \u001b[0;36m<module>\u001b[0;34m()\u001b[0m\n\u001b[1;32m     10\u001b[0m \u001b[0;32mfor\u001b[0m \u001b[0mnum\u001b[0m \u001b[0;32min\u001b[0m \u001b[0mnum_list\u001b[0m\u001b[0;34m:\u001b[0m\u001b[0;34m\u001b[0m\u001b[0m\n\u001b[1;32m     11\u001b[0m     \u001b[0;31m# query = 'number == \"{}\"'.format(num)\u001b[0m\u001b[0;34m\u001b[0m\u001b[0;34m\u001b[0m\u001b[0m\n\u001b[0;32m---> 12\u001b[0;31m     \u001b[0mobject\u001b[0m \u001b[0;34m=\u001b[0m \u001b[0mtable\u001b[0m\u001b[0;34m.\u001b[0m\u001b[0mquery\u001b[0m\u001b[0;34m(\u001b[0m\u001b[0;34m'number == \"{}\"'\u001b[0m\u001b[0;34m.\u001b[0m\u001b[0mformat\u001b[0m\u001b[0;34m(\u001b[0m\u001b[0mnum\u001b[0m\u001b[0;34m)\u001b[0m\u001b[0;34m)\u001b[0m\u001b[0;34m\u001b[0m\u001b[0m\n\u001b[0m\u001b[1;32m     13\u001b[0m     \u001b[0mq1\u001b[0m \u001b[0;34m=\u001b[0m \u001b[0mfloat\u001b[0m\u001b[0;34m(\u001b[0m\u001b[0mobject\u001b[0m\u001b[0;34m[\u001b[0m\u001b[0;34m\"perihelion\"\u001b[0m\u001b[0;34m]\u001b[0m\u001b[0;34m)\u001b[0m\u001b[0;34m\u001b[0m\u001b[0m\n\u001b[1;32m     14\u001b[0m     \u001b[0ma1\u001b[0m \u001b[0;34m=\u001b[0m \u001b[0mfloat\u001b[0m\u001b[0;34m(\u001b[0m\u001b[0mobject\u001b[0m\u001b[0;34m[\u001b[0m\u001b[0;34m\"semimajor_axis\"\u001b[0m\u001b[0;34m]\u001b[0m\u001b[0;34m)\u001b[0m\u001b[0;34m\u001b[0m\u001b[0m\n",
        "\u001b[0;31mAttributeError\u001b[0m: 'Table' object has no attribute 'query'"
       ]
      }
     ],
     "prompt_number": 7
    },
    {
     "cell_type": "code",
     "collapsed": false,
     "input": [
      "ecc = table['eccentricity']\n",
      "q = table['perihelion']\n",
      "i = table['inclination']\n",
      "a = table['semimajor_axis']\n",
      "\n",
      "with sns.axes_style(\"darkgrid\"):\n",
      "    plt.subplot(311)\n",
      "    plt.scatter(a, ecc, color=\"#6495ED\")\n",
      "    plt.scatter(mbc_alist, mbc_elist, color=\"#e83c3c\")\n",
      "    plt.ylim(0,1.2)\n",
      "    plt.ylabel('eccentricity')\n",
      "    plt.xlim(2, 4)\n",
      "\n",
      "    plt.subplot(312)\n",
      "    plt.scatter(a, i, color=\"#6495ED\")\n",
      "    plt.scatter(mbc_alist, mbc_ilist, color=\"#e83c3c\")\n",
      "    plt.ylim(0,14)\n",
      "    plt.ylabel('inclination')\n",
      "    plt.xlim(2, 4)\n",
      "    plt.xlabel('semimajor axis (AU)')\n",
      "    \n",
      "    plt.subplot(313)\n",
      "    plt.scatter(a, q, color=\"#6495ED\")\n",
      "    plt.scatter(mbc_alist, mbc_qlist, color=\"#e83c3c\")\n",
      "    plt.ylim(0,4)\n",
      "    plt.ylabel('perihelion')\n",
      "    plt.xlim(2, 4)\n",
      "    plt.xlabel('semimajor axis (AU)')"
     ],
     "language": "python",
     "metadata": {},
     "outputs": [
      {
       "metadata": {},
       "output_type": "display_data",
       "png": "[encoded data removed]",
       "text": [
        "<matplotlib.figure.Figure at 0x109f68a10>"
       ]
      }
     ],
     "prompt_number": 8
    },
    {
     "cell_type": "code",
     "collapsed": false,
     "input": [],
     "language": "python",
     "metadata": {},
     "outputs": []
    }
   ],
   "metadata": {}
  }
 ]
}