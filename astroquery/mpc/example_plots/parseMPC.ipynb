{
 "metadata": {
  "name": "",
  "signature": "sha256:672a1573bc3354c0347fa6b66c216f77c8499229f06538620039cc41c15d55f4"
 },
 "nbformat": 3,
 "nbformat_minor": 0,
 "worksheets": [
  {
   "cells": [
    {
     "cell_type": "code",
     "collapsed": false,
     "input": [
      "import numpy as np\n",
      "import matplotlib.pyplot as plt\n",
      "import pandas as pd\n",
      "import seaborn as sns\n",
      "%matplotlib inline\n",
      "from astropy.io import ascii\n",
      "from astropy.table import Table, Column"
     ],
     "language": "python",
     "metadata": {},
     "outputs": [],
     "prompt_number": 4
    },
    {
     "cell_type": "heading",
     "level": 2,
     "metadata": {},
     "source": [
      "Parse Comets: http://www.minorplanetcenter.net/iau/MPCORB.html"
     ]
    },
    {
     "cell_type": "raw",
     "metadata": {},
     "source": [
      " Columns   F77    Use\n",
      "\n",
      "    1 -   4  i4     Periodic comet number\n",
      "    5        a1     Orbit type (generally `C', `P' or `D')\n",
      "    6 -  12  a7     Provisional designation (in packed form)\n",
      "\n",
      "   15 -  18  i4     Year of perihelion passage\n",
      "   20 -  21  i2     Month of perihelion passage\n",
      "   23 -  29  f7.4   Day of perihelion passage (TT)\n",
      "\n",
      "   31 -  39  f9.6   Perihelion distance (AU)\n",
      "   42 -  49  f8.6   Orbital eccentricity\n",
      "\n",
      "   52 -  59  f8.4   Argument of perihelion, J2000.0 (degrees)\n",
      "   62 -  69  f8.4   Longitude of the ascending node, J2000.0\n",
      "                      (degrees)\n",
      "   72 -  79  f8.4   Inclination in degrees, J2000.0 (degrees)\n",
      "\n",
      "   82 -  85  i4     Year of epoch for perturbed solutions\n",
      "   86 -  87  i2     Month of epoch for perturbed solutions\n",
      "   88 -  89  i2     Day of epoch for perturbed solutions\n",
      "\n",
      "   92 -  95  f4.1   Absolute magnitude\n",
      "   97 - 100  f4.0   Slope parameter\n",
      "\n",
      "  103 - 158  a56    Designation and Name\n",
      "\n",
      "  160 - 168  a9     Reference"
     ]
    },
    {
     "cell_type": "code",
     "collapsed": false,
     "input": [
      "infile = open(\"CometEls.txt\", \"rw+\")\n",
      "\n",
      "numlist = []\n",
      "qlist = []\n",
      "ecclist = []\n",
      "inclist = []\n",
      "namelist = []\n",
      "\n",
      "\n",
      "for line in infile.readlines():\n",
      "    s = line #str(infile.readlines(line))\n",
      "    #print s\n",
      "\n",
      "    # number\n",
      "    number = s[2:10].strip()\n",
      "    # perihelion distance (AU)\n",
      "    q = float(s[30:40].strip())\n",
      "    # orbital eccentricity\n",
      "    ecc = float(s[41:50].strip())\n",
      "    # inclination, J@00.0 (degrees)\n",
      "    inc = float(s[71:80].strip())\n",
      "    # designation and name\n",
      "    name = s[102:159].strip()\n",
      "    numlist.append(number)\n",
      "    qlist.append(q)\n",
      "    ecclist.append(ecc)\n",
      "    inclist.append(inc)\n",
      "    namelist.append(name)\n",
      "\n",
      "    \n",
      "table = Table([numlist, qlist, ecclist, inclist, namelist], \n",
      "          names=('number', 'perihelion', 'eccentricity', 'inclination', 'name'))\n",
      "table\n",
      "\n",
      "infile.close()\n",
      "\n",
      "table[\"semimajor_axis\"] = table['perihelion']/(1 - table['eccentricity'])  # a=q/(1-e)\n"
     ],
     "language": "python",
     "metadata": {},
     "outputs": [],
     "prompt_number": 5
    },
    {
     "cell_type": "heading",
     "level": 2,
     "metadata": {},
     "source": [
      "Parse NEAs"
     ]
    },
    {
     "cell_type": "raw",
     "metadata": {},
     "source": [
      "Format: http://www.minorplanetcenter.net/iau/info/MPOrbitFormat.html"
     ]
    },
    {
     "cell_type": "code",
     "collapsed": false,
     "input": [
      "infile = open(\"NEAs.txt\", \"rw+\")\n",
      "\n",
      "numlist = []\n",
      "qlist = []\n",
      "ecclist = []\n",
      "inclist = []\n",
      "namelist = []\n",
      "\n",
      "\n",
      "for line in infile.readlines():\n",
      "    s = line #str(infile.readlines(line))\n",
      "    #print s\n",
      "\n",
      "    # number\n",
      "    number = s[0:8].strip()\n",
      "    # perihelion distance (AU)\n",
      "    q = float(s[37:47].strip())\n",
      "    # orbital eccentricity\n",
      "    ecc = float(s[70:80].strip())\n",
      "    # inclination, J@00.0 (degrees)\n",
      "    inc = float(s[59:69].strip())\n",
      "    # designation and name\n",
      "    name = s[107:117].strip()\n",
      "    numlist.append(number)\n",
      "    qlist.append(q)\n",
      "    ecclist.append(ecc)\n",
      "    inclist.append(inc)\n",
      "    namelist.append(name)\n",
      "    \n",
      "table = Table([numlist, qlist, ecclist, inclist, namelist], \n",
      "          names=('number', 'perihelion', 'eccentricity', 'inclination', 'name'))\n",
      "\n",
      "infile.close()\n",
      "\n",
      "table[\"semimajor_axis\"] = table['perihelion']/(1 - table['eccentricity'])  # a=q/(1-e)\n",
      "table\n"
     ],
     "language": "python",
     "metadata": {},
     "outputs": [
      {
       "html": [
        "<table id=\"table4354994704\"><thead><tr><th>number</th><th>perihelion</th><th>eccentricity</th><th>inclination</th><th>name</th><th>semimajor_axis</th></tr></thead><tr><td>00433</td><td>178.79559</td><td>0.2226338</td><td>10.829</td><td>MPO319086</td><td>230.001754643</td></tr><tr><td>00719</td><td>155.80063</td><td>0.5517267</td><td>11.55295</td><td>MPO319090</td><td>347.557237962</td></tr><tr><td>00887</td><td>350.33838</td><td>0.5674588</td><td>9.35937</td><td>MPO305433</td><td>809.953780125</td></tr><tr><td>01036</td><td>132.49277</td><td>0.5338871</td><td>26.69365</td><td>MPO319094</td><td>284.250382257</td></tr><tr><td>01221</td><td>26.62289</td><td>0.4353288</td><td>11.87858</td><td>MPO244183</td><td>47.1475966899</td></tr><tr><td>01566</td><td>31.35824</td><td>0.8269606</td><td>22.82787</td><td>MPO298968</td><td>181.220230768</td></tr><tr><td>01580</td><td>159.46018</td><td>0.487449</td><td>52.08298</td><td>MPO319102</td><td>311.11085531</td></tr><tr><td>01620</td><td>276.86885</td><td>0.3354309</td><td>13.33766</td><td>MPO319102</td><td>416.614088738</td></tr><tr><td>01627</td><td>167.71697</td><td>0.39647</td><td>8.4512</td><td>MPO319102</td><td>277.893344159</td></tr><tr><td>01685</td><td>127.11841</td><td>0.4359096</td><td>9.38109</td><td>MPO270202</td><td>225.351131663</td></tr><tr><td>01862</td><td>285.87522</td><td>0.560063</td><td>6.35307</td><td>MPO319106</td><td>649.809449989</td></tr><tr><td>...</td><td>...</td><td>...</td><td>...</td><td>...</td><td>...</td></tr><tr><td>f9829</td><td>210.06617</td><td>0.5181594</td><td>15.6368</td><td>MPO316466</td><td>435.966105803</td></tr><tr><td>f9880</td><td>322.3899</td><td>0.6716586</td><td>9.6531</td><td>MPO316479</td><td>981.874049389</td></tr><tr><td>f9922</td><td>188.73152</td><td>0.6374921</td><td>8.03867</td><td>MPO316490</td><td>520.627329777</td></tr><tr><td>g0048</td><td>293.71711</td><td>0.412173</td><td>28.20248</td><td>MPO316521</td><td>499.665905105</td></tr><tr><td>g0187</td><td>316.96052</td><td>0.483872</td><td>8.72006</td><td>MPO316556</td><td>614.112235724</td></tr><tr><td>g0210</td><td>149.56312</td><td>0.2348558</td><td>10.62058</td><td>MPO316562</td><td>195.470500855</td></tr><tr><td>g0262</td><td>253.27676</td><td>0.4226278</td><td>17.1282</td><td>MPO316576</td><td>438.671553636</td></tr><tr><td>g0286</td><td>278.41313</td><td>0.5326181</td><td>36.58455</td><td>MPO316582</td><td>595.686589489</td></tr><tr><td>g0302</td><td>36.05552</td><td>0.4623819</td><td>6.67818</td><td>MPO316586</td><td>67.0653015589</td></tr><tr><td>g0591</td><td>30.23936</td><td>0.4425078</td><td>9.10665</td><td>MPO316657</td><td>54.2417633825</td></tr><tr><td>g0738</td><td>20.84349</td><td>0.1131649</td><td>16.45761</td><td>MPO316692</td><td>23.5032307585</td></tr></table>"
       ],
       "metadata": {},
       "output_type": "pyout",
       "prompt_number": 13,
       "text": [
        "<Table rows=11853 names=('number','perihelion','eccentricity','inclination','name','semimajor_axis')>\n",
        "array([('00433', 178.79559, 0.2226338, 10.829, 'MPO319086', 230.00175464279255),\n",
        "       ('00719', 155.80063, 0.5517267, 11.55295, 'MPO319090', 347.5572379617524),\n",
        "       ('00887', 350.33838, 0.5674588, 9.35937, 'MPO305433', 809.9537801254539),\n",
        "       ...,\n",
        "       ('g0302', 36.05552, 0.4623819, 6.67818, 'MPO316586', 67.06530155885748),\n",
        "       ('g0591', 30.23936, 0.4425078, 9.10665, 'MPO316657', 54.241763382519075),\n",
        "       ('g0738', 20.84349, 0.1131649, 16.45761, 'MPO316692', 23.5032307584578)], \n",
        "      dtype=[('number', 'S7'), ('perihelion', '<f8'), ('eccentricity', '<f8'), ('inclination', '<f8'), ('name', 'S9'), ('semimajor_axis', '<f8')])"
       ]
      }
     ],
     "prompt_number": 13
    },
    {
     "cell_type": "code",
     "collapsed": false,
     "input": [],
     "language": "python",
     "metadata": {},
     "outputs": []
    }
   ],
   "metadata": {}
  }
 ]
}